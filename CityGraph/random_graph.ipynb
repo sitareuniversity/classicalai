{
 "cells": [
  {
   "cell_type": "markdown",
   "metadata": {},
   "source": [
    "<h1>Functions available in Graph class</h1>\n",
    "<ul>\n",
    "    <li>maximum_dropout:- for returning the maximum dropout value\n",
    "    <li>add_node:- for adding one node only</li>\n",
    "    <li>add_nodes:- for adding multiple nodes at a time</li>\n",
    "    <li>add_edge:- for adding edges between given two nodes</li>\n",
    "    <li>edges:- for returning edges in the graph</li> \n",
    "    <li>adjList:- for returning the adjacency list of the graph</li>\n",
    "    <li>nodeDegree:- for finding the degree of any node</li>\n",
    "    <li>randomGraphCreater:- for converting complete graph to incomplete connected graph</li>\n",
    "</ul>"
   ]
  },
  {
   "cell_type": "code",
   "execution_count": 10,
   "metadata": {},
   "outputs": [],
   "source": [
    "# importing the required modules\n",
    "import pandas as pd\n",
    "import networkx as nx\n",
    "from RandomGraph import Graph\n",
    "import warnings"
   ]
  },
  {
   "cell_type": "code",
   "execution_count": 11,
   "metadata": {},
   "outputs": [
    {
     "name": "stdout",
     "output_type": "stream",
     "text": [
      "Maximum dropout can be :-  0.9782716049382716\n"
     ]
    }
   ],
   "source": [
    "# reading the 'Complete_graph.csv' file\n",
    "csv_file_path = 'Complete_graph.csv'\n",
    "df = pd.read_csv(csv_file_path)\n",
    "\n",
    "G = Graph()\n",
    "\n",
    "# Add nodes to the graph.\n",
    "    \n",
    "G.add_nodes(df['node1'].unique())\n",
    "\n",
    "for i, row in df.iterrows():\n",
    "    node1 = row['node1']\n",
    "    node2 = row['node2']\n",
    "    route_distance = row['route_distance']\n",
    "    heuristic_distance = row['Heuristic distance']\n",
    "    G.add_edge(node1, node2, route_distance, heuristic_distance)\n",
    "\n",
    "\n",
    "a = G.maximum_dropout()\n",
    "\n",
    "\n",
    "x = (a - 0.05)\n",
    "print(\"Maximum dropout can be :- \" , a)\n",
    "\n"
   ]
  },
  {
   "cell_type": "code",
   "execution_count": 12,
   "metadata": {},
   "outputs": [
    {
     "name": "stderr",
     "output_type": "stream",
     "text": [
      "C:\\Users\\kirtan\\AppData\\Local\\Temp\\ipykernel_19012\\67901622.py:3: UserWarning: This is code may take long time you can check for lower dropout value\n",
      "  warnings.warn(\"This is code may take long time you can check for lower dropout value\")\n"
     ]
    }
   ],
   "source": [
    "dropout = float(input(f'Enter dropout rate between 0 and {a}'))\n",
    "if dropout > x:\n",
    "    warnings.warn(\"This code may take long time you can check for lower dropout value.\")"
   ]
  },
  {
   "cell_type": "code",
   "execution_count": 13,
   "metadata": {},
   "outputs": [
    {
     "name": "stderr",
     "output_type": "stream",
     "text": [
      "Removing Edges: 1962it [00:51, 37.77it/s] \n"
     ]
    },
    {
     "data": {
      "text/plain": [
       "'Random connected graph saved to random_connected_graph.csv'"
      ]
     },
     "execution_count": 13,
     "metadata": {},
     "output_type": "execute_result"
    }
   ],
   "source": [
    "def dropout_graph(G, df, dropout):\n",
    "    \"\"\"\n",
    "    This function creates randomly connected graph after droping the percentage\n",
    "    of edges asked by user to drop. There is maximum dropout beyond which user\n",
    "    can not give dropout factor.Since we want connected graph so minimum dropout\n",
    "    is 0 and maximum is given by below formula:\n",
    "    Maximum Drouout = 1 - (Total number of unique nodes / Total number of edges)\n",
    "\n",
    "    Parameter G : graph class object.\n",
    "    Precondition : G must be graph class instance.\n",
    "\n",
    "    Parameter df : dataframe containg our dataset.\n",
    "    Precondition: df must be dataframe.\n",
    "\n",
    "    Parameter dropout: Percentage of edges to be removed.\n",
    "    Precondition : dropout must be in range [0, maximum dropout).\n",
    "    \"\"\"\n",
    "\n",
    "    # Creating a randomly connected graph by removing randomly selected edges.\n",
    "    random_connected_graph = G.randomGraphCreater(dropout)\n",
    "\n",
    "    output_csv_file = 'random_connected_graph.csv'  \n",
    "    edge_data = list(random_connected_graph)\n",
    "    edge_df = pd.DataFrame(edge_data, columns=['node1', 'node2', 'route_distance', 'Heuristic distance'])\n",
    "    edge_df.to_csv(output_csv_file, index=False)\n",
    "    \n",
    "    return f\"Random connected graph saved to {output_csv_file}\"\n",
    "dropout_graph(G, df, dropout)"
   ]
  },
  {
   "cell_type": "code",
   "execution_count": 14,
   "metadata": {},
   "outputs": [
    {
     "name": "stdout",
     "output_type": "stream",
     "text": [
      "Shortest path from Rajsamand to Patna: ['Rajsamand', 'Faridabad', 'Araria', 'Jaipur', 'Nawada', 'Madhepura', 'Patna']\n",
      "Shortest path length: 4783\n"
     ]
    }
   ],
   "source": [
    "df = pd.read_csv('random_connected_graph.csv')\n",
    "G1 = nx.Graph()     # Creating Graph object.\n",
    "\n",
    "\"\"\"\n",
    "Here we are calculating shortest distance between city-A and city-B with help\n",
    "of networkx library. shortest_path is a method of networkx library which has\n",
    "parameters start node and target node.\n",
    "\"\"\"\n",
    "\n",
    "for _, row in df.iterrows():\n",
    "    node1 = row['node1']\n",
    "    node2 = row['node2']\n",
    "    route_distance = row['route_distance']\n",
    "\n",
    "    G1.add_node(node1)   # We are adding the node.\n",
    "    G1.add_node(node2)   # We are adding the node.\n",
    "\n",
    "    G1.add_edge(node1, node2, weight=int(route_distance)) # We are adding the edge between the nodes.\n",
    "\n",
    "source_node = 'Rajsamand'    # Start Node\n",
    "target_node = 'Patna'        # Target Node\n",
    "# Below variable is storing shortest path from city-A to city-B.\n",
    "shortest_path = nx.shortest_path(G1, source=source_node, target=target_node, weight='weight')\n",
    "# below variable is storing cost of the shortest path between City-A to City-B.\n",
    "shortest_path_length = nx.shortest_path_length(G1, source=source_node, \n",
    "                                target=target_node, weight='weight')\n",
    "print(f\"Shortest path from {source_node} to {target_node}: {shortest_path}\")\n",
    "print(f\"Shortest path length: {shortest_path_length}\")"
   ]
  }
 ],
 "metadata": {
  "kernelspec": {
   "display_name": "Python 3 (ipykernel)",
   "language": "python",
   "name": "python3"
  },
  "language_info": {
   "codemirror_mode": {
    "name": "ipython",
    "version": 3
   },
   "file_extension": ".py",
   "mimetype": "text/x-python",
   "name": "python",
   "nbconvert_exporter": "python",
   "pygments_lexer": "ipython3",
   "version": "3.11.3"
  }
 },
 "nbformat": 4,
 "nbformat_minor": 2
}
