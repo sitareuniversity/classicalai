{
  "cells": [
    {
      "cell_type": "code",
      "execution_count": 3,
      "metadata": {},
      "outputs": [
        {
          "name": "stdout",
          "output_type": "stream",
          "text": [
            "Requirement already satisfied: requests in c:\\users\\kirtan\\anaconda3\\lib\\site-packages (2.29.0)\n",
            "Requirement already satisfied: charset-normalizer<4,>=2 in c:\\users\\kirtan\\anaconda3\\lib\\site-packages (from requests) (2.0.4)\n",
            "Requirement already satisfied: idna<4,>=2.5 in c:\\users\\kirtan\\anaconda3\\lib\\site-packages (from requests) (3.4)\n",
            "Requirement already satisfied: urllib3<1.27,>=1.21.1 in c:\\users\\kirtan\\anaconda3\\lib\\site-packages (from requests) (1.26.16)\n",
            "Requirement already satisfied: certifi>=2017.4.17 in c:\\users\\kirtan\\anaconda3\\lib\\site-packages (from requests) (2023.5.7)\n",
            "Note: you may need to restart the kernel to use updated packages.\n"
          ]
        }
      ],
      "source": [
        "! pip install requests    #Installing requests module."
      ]
    },
    {
      "cell_type": "code",
      "execution_count": 1,
      "metadata": {},
      "outputs": [],
      "source": [
        "def get_route_distance(api_key, start_coordinate, end_coordinate):\n",
        "\n",
        "    # Define the API endpoint for route calculation\n",
        "\n",
        "    endpoint = 'https://api.openrouteservice.org/v2/directions/driving-car'\n",
        "\n",
        "    # Define the coordinates for the starting and ending points of the route\n",
        "    start_coords = start_coordinate # [longitude, latitude]\n",
        "    end_coords = end_coordinate    # [longitude, latitude]\n",
        "\n",
        "    payload = {\n",
        "        'coordinates': [start_coords, end_coords],\n",
        "        # user can change profile  to 'foot-walking' or 'cycling-regular' for \n",
        "        # different modes of transports.\n",
        "        'profile': 'driving-car',\n",
        "    }\n",
        "\n",
        "    # Set the API key in the headers\n",
        "    headers = {\n",
        "        'Authorization': f'Bearer {api_key}',\n",
        "    }\n",
        "\n",
        "    # Send a POST request to the OpenRouteService API\n",
        "    response = requests.post(endpoint, json=payload, headers=headers)\n",
        "\n",
        "    # Check if the request was successful (HTTP status code 200)\n",
        "    if response.status_code == 200:\n",
        "        data = response.json()\n",
        "\n",
        "        if len(data['routes'][0]['summary']) == 0:\n",
        "            distance = 0\n",
        "\n",
        "        else:\n",
        "\n",
        "            distance = data['routes'][0]['summary']['distance']\n",
        "\n",
        "        return int(distance//1000)\n",
        "\n",
        "    else:\n",
        "        return f\"Error: {response.status_code} - {response.text}\""
      ]
    },
    {
      "cell_type": "code",
      "execution_count": 2,
      "metadata": {
        "colab": {
          "base_uri": "https://localhost:8080/"
        },
        "id": "8EDPIdd8BhLR",
        "outputId": "673b794a-1c57-4777-b482-ba002cd13f1d"
      },
      "outputs": [
        {
          "name": "stdout",
          "output_type": "stream",
          "text": [
            "CSV file 'Lucknow.csv' has been created.\n"
          ]
        }
      ],
      "source": [
        "import csv\n",
        "from geopy.distance import geodesic\n",
        "import requests\n",
        "import json\n",
        "import time\n",
        "\n",
        "# Dictionary containing city names as keys and their coordinates as values\n",
        "cities = {'Lucknow': (26.850000, 80.949997), 'Rajsamand': (25.066700, 73.883301), ...}\n",
        "\n",
        "# Looping through each city in the dictionary\n",
        "for city_name, city_coordinates in cities.items():\n",
        "\n",
        "    # Calculate the time interval for API requests (70 seconds divided by 40 requests)\n",
        "    time_interval = 70 / 40\n",
        "\n",
        "    # API keys for route distance calculations\n",
        "    api_key = '5b3ce3597851110001cf624887280eac23374df08b057352fff2310a'\n",
        "    api_key2 = '5b3ce3597851110001cf624896d87d32d9f040c58bc9ec95b252fa7d'\n",
        "\n",
        "    # List to store CSV data\n",
        "    csv_data = []\n",
        "\n",
        "    # Loop through all cities to calculate distances\n",
        "    for city, coordinates in cities.items():\n",
        "\n",
        "        try:\n",
        "            # Get the start and end coordinates for distance calculation\n",
        "            start_coordinate = [city_coordinates[1], city_coordinates[0]]\n",
        "            end_coordinate = [coordinates[1], coordinates[0]]\n",
        "\n",
        "            # Measure the start time for API request timing\n",
        "            start_time = time.time()\n",
        "\n",
        "            # Get the route distance using the first API key\n",
        "            route_distance = get_route_distance(api_key, start_coordinate, end_coordinate)\n",
        "\n",
        "            # Measure the end time for API request timing\n",
        "            end_time = time.time()\n",
        "\n",
        "            # Calculate the geodesic distance between the two cities\n",
        "            distance_km = geodesic(city_coordinates, coordinates).km\n",
        "\n",
        "            # Calculate the time taken for the API request\n",
        "            request_time = end_time - start_time\n",
        "\n",
        "            # If the request time is less than the time interval, sleep to avoid rate limiting\n",
        "            if request_time < time_interval:\n",
        "                time.sleep(time_interval - request_time)\n",
        "            \n",
        "            # Append data to the CSV data list\n",
        "            csv_data.append([city_name, city, int(distance_km), int(route_distance)])\n",
        "\n",
        "        except:\n",
        "            # If an exception occurs, use the second API key for route distance\n",
        "            start_coordinate = [city_coordinates[1], city_coordinates[0]]\n",
        "            end_coordinate = [coordinates[1], coordinates[0]]\n",
        "            start_time = time.time()\n",
        "            route_distance = get_route_distance(api_key2, start_coordinate, end_coordinate)\n",
        "            end_time = time.time()\n",
        "            distance_km = geodesic(city_coordinates, coordinates).km\n",
        "            request_time = end_time - start_time\n",
        "\n",
        "            # If the request time is less than the time interval, sleep to avoid rate limiting\n",
        "            if request_time < time_interval:\n",
        "                time.sleep(time_interval - request_time)\n",
        "\n",
        "            # Append data to the CSV data list\n",
        "            csv_data.append([city_name, city, int(distance_km), int(route_distance)])\n",
        "\n",
        "    # Define the CSV file name based on the city\n",
        "    csv_file_name = f\"{city_name}.csv\"\n",
        "\n",
        "    # Open the CSV file for writing\n",
        "    with open(csv_file_name, mode='w', newline='') as csv_file:\n",
        "        csv_writer = csv.writer(csv_file)\n",
        "\n",
        "        # Write the header row\n",
        "        csv_writer.writerow([\"node1\", \"node2\", \"Heuristic distance\", \"route_distance\"])\n",
        "\n",
        "        # Write the data rows\n",
        "        csv_writer.writerows(csv_data)\n",
        "\n",
        "    # Print a message indicating that the CSV file has been created\n",
        "    print(f\"CSV file '{csv_file_name}' has been created.\")\n"
      ]
    }
  ],
  "metadata": {
    "colab": {
      "provenance": []
    },
    "kernelspec": {
      "display_name": "Python 3",
      "name": "python3"
    },
    "language_info": {
      "codemirror_mode": {
        "name": "ipython",
        "version": 3
      },
      "file_extension": ".py",
      "mimetype": "text/x-python",
      "name": "python",
      "nbconvert_exporter": "python",
      "pygments_lexer": "ipython3",
      "version": "3.11.3"
    }
  },
  "nbformat": 4,
  "nbformat_minor": 0
}
